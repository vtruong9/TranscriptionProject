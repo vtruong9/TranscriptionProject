{
 "cells": [
  {
   "cell_type": "code",
   "execution_count": 1,
   "metadata": {},
   "outputs": [],
   "source": [
    "import numpy as np\n",
    "import gzip"
   ]
  },
  {
   "cell_type": "code",
   "execution_count": 2,
   "metadata": {},
   "outputs": [],
   "source": [
    "### TEST ###\n",
    "# FILE = \"summary38genes.csv\""
   ]
  },
  {
   "cell_type": "code",
   "execution_count": 3,
   "metadata": {},
   "outputs": [
    {
     "name": "stdout",
     "output_type": "stream",
     "text": [
      "['t', '0', '4', '7', '8', '0', '0', '2', '6', '3', '2', 'G', '0', '7', '6', '3', '5', '1', '5', '8', '9', '3', '5', '8', '7', '2', '2', '1', '7', '1', '1', '1', '8', '6', '4', '0', '1', '5', '7']\n"
     ]
    }
   ],
   "source": [
    "#for line in file:\n",
    "#     line[xcount up][1]\n",
    "#     print to existingSpreadsheet.xls\n",
    "\n",
    "f = open(\"summary38genes.csv\")\n",
    "lines = f.readlines()\n",
    "f.close()\n",
    "\n",
    "alphaList = []\n",
    "\n",
    "for l in lines:\n",
    "    alphaList.append(l[5])\n",
    "\n",
    "\n",
    "print(alphaList)\n",
    "\n",
    "#def load_pdb(pdb_file):\n",
    "#    \n",
    "#    f = open(pdb_file,'r')\n",
    "#    lines = f.readlines()\n",
    "#    f.close()\n",
    "#    \n",
    "#    all_coord = []\n",
    "#    for l in lines:\n",
    "#        if l[0:4] == \"ATOM\" and l[13:16] == \"CA \":\n",
    "#            coord = [float(l[(30 + i*8):(38 + i*8)]) for i in range(3)]\n",
    "#            all_coord.append(coord)\n",
    "#            \n",
    "#    return np.array(all_coord)\n",
    "\n",
    "\n",
    "#ARE YOU SHITTING ME CSV IS JUST A STRAIGHT LIST OF CHARACTERS WHO DOES THAT?!?!?1"
   ]
  }
 ],
 "metadata": {
  "kernelspec": {
   "display_name": "Python 3",
   "language": "python",
   "name": "python3"
  },
  "language_info": {
   "codemirror_mode": {
    "name": "ipython",
    "version": 3
   },
   "file_extension": ".py",
   "mimetype": "text/x-python",
   "name": "python",
   "nbconvert_exporter": "python",
   "pygments_lexer": "ipython3",
   "version": "3.7.4"
  }
 },
 "nbformat": 4,
 "nbformat_minor": 2
}
